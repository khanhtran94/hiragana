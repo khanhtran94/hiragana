{
  "nbformat": 4,
  "nbformat_minor": 0,
  "metadata": {
    "colab": {
      "name": "japan.ipynb",
      "version": "0.3.2",
      "provenance": [],
      "collapsed_sections": [],
      "include_colab_link": true
    },
    "kernelspec": {
      "name": "python3",
      "display_name": "Python 3"
    },
    "accelerator": "GPU"
  },
  "cells": [
    {
      "cell_type": "markdown",
      "metadata": {
        "id": "view-in-github",
        "colab_type": "text"
      },
      "source": [
        "<a href=\"https://colab.research.google.com/github/khanhtran94/hiragana/blob/master/japan.ipynb\" target=\"_parent\"><img src=\"https://colab.research.google.com/assets/colab-badge.svg\" alt=\"Open In Colab\"/></a>"
      ]
    },
    {
      "cell_type": "code",
      "metadata": {
        "id": "k-0hnbEjGhHk",
        "colab_type": "code",
        "outputId": "e9f8eb35-d171-458a-9ab3-a2991def2531",
        "colab": {
          "base_uri": "https://localhost:8080/",
          "height": 34
        }
      },
      "source": [
        "import keras\n",
        "import numpy as np\n",
        "import os\n",
        "import pickle\n",
        "import cv2"
      ],
      "execution_count": 1,
      "outputs": [
        {
          "output_type": "stream",
          "text": [
            "Using TensorFlow backend.\n"
          ],
          "name": "stderr"
        }
      ]
    },
    {
      "cell_type": "code",
      "metadata": {
        "id": "ucUkuP_v6XQ2",
        "colab_type": "code",
        "outputId": "e0e46fa8-b8d0-445f-dfd5-b157c25984f1",
        "colab": {
          "base_uri": "https://localhost:8080/",
          "height": 153
        }
      },
      "source": [
        "#!git clone https://github.com/khanhtran94/data_jaban.git\n",
        "!git clone https://github.com/khanhtran94/hiragana.git"
      ],
      "execution_count": 2,
      "outputs": [
        {
          "output_type": "stream",
          "text": [
            "Cloning into 'hiragana'...\n",
            "remote: Enumerating objects: 14589, done.\u001b[K\n",
            "remote: Counting objects: 100% (14589/14589), done.\u001b[K\n",
            "remote: Compressing objects: 100% (14551/14551), done.\u001b[K\n",
            "remote: Total 14589 (delta 46), reused 14578 (delta 38), pack-reused 0\n",
            "Receiving objects: 100% (14589/14589), 184.28 MiB | 34.41 MiB/s, done.\n",
            "Resolving deltas: 100% (46/46), done.\n",
            "Checking out files: 100% (14241/14241), done.\n"
          ],
          "name": "stdout"
        }
      ]
    },
    {
      "cell_type": "code",
      "metadata": {
        "id": "ULv88cN8EBgl",
        "colab_type": "code",
        "colab": {}
      },
      "source": [
        "import numpy as np\n",
        "from keras.preprocessing.image import ImageDataGenerator"
      ],
      "execution_count": 0,
      "outputs": []
    },
    {
      "cell_type": "code",
      "metadata": {
        "id": "OlqE_6WdEGOo",
        "colab_type": "code",
        "colab": {}
      },
      "source": [
        "#Training generator with augmentation\n",
        "\n",
        "train_datagen = ImageDataGenerator(\n",
        "        rotation_range=40,\n",
        "        width_shift_range=0.2,\n",
        "        height_shift_range=0.2,\n",
        "        rescale=1./255,\n",
        "        shear_range=0.2,\n",
        "        zoom_range=0.7,\n",
        "        horizontal_flip=False,\n",
        "        vertical_flip=False,\n",
        "        fill_mode='nearest')"
      ],
      "execution_count": 0,
      "outputs": []
    },
    {
      "cell_type": "code",
      "metadata": {
        "id": "UZzrr_S0EKKZ",
        "colab_type": "code",
        "colab": {}
      },
      "source": [
        "# Testing generator\n",
        "\n",
        "test_datagen = ImageDataGenerator(rescale=1./255)"
      ],
      "execution_count": 0,
      "outputs": []
    },
    {
      "cell_type": "code",
      "metadata": {
        "id": "Oqrl098cENbx",
        "colab_type": "code",
        "colab": {}
      },
      "source": [
        "BATCH_SIZE = 256\n",
        "N_CLASSES = 71\n",
        "LR = 0.001\n",
        "N_EPOCHS = 50\n",
        "IMG_SIZE = 32"
      ],
      "execution_count": 0,
      "outputs": []
    },
    {
      "cell_type": "code",
      "metadata": {
        "id": "9rFItjG3fF3y",
        "colab_type": "code",
        "outputId": "c7838644-0a4a-4ff2-92f0-12ff6eec1ef0",
        "colab": {
          "base_uri": "https://localhost:8080/",
          "height": 51
        }
      },
      "source": [
        "ls"
      ],
      "execution_count": 25,
      "outputs": [
        {
          "output_type": "stream",
          "text": [
            "\u001b[0m\u001b[01;34mETL8G\u001b[0m/          japan_v2.ipynb             model.zip         \u001b[01;34mtesting_data\u001b[0m/\n",
            "jaban_v1.ipynb  load_model_and_test.ipynb  save_model.ipynb  \u001b[01;34mtraining_data\u001b[0m/\n"
          ],
          "name": "stdout"
        }
      ]
    },
    {
      "cell_type": "code",
      "metadata": {
        "id": "1kS0yc9DEVDF",
        "colab_type": "code",
        "colab": {}
      },
      "source": [
        "cd hiragana/\n"
      ],
      "execution_count": 0,
      "outputs": []
    },
    {
      "cell_type": "markdown",
      "metadata": {
        "id": "a1LiqzGnfyJH",
        "colab_type": "text"
      },
      "source": [
        "cd hiragana/\n",
        "\n",
        "cd data_jaban/\n"
      ]
    },
    {
      "cell_type": "code",
      "metadata": {
        "id": "CQgqTqLKfiIH",
        "colab_type": "code",
        "colab": {}
      },
      "source": [
        ""
      ],
      "execution_count": 0,
      "outputs": []
    },
    {
      "cell_type": "code",
      "metadata": {
        "id": "KH2HQe-qfXry",
        "colab_type": "code",
        "outputId": "4b6359f1-4876-45f1-cc63-3f83d43a0448",
        "colab": {
          "base_uri": "https://localhost:8080/",
          "height": 34
        }
      },
      "source": [
        "pwd"
      ],
      "execution_count": 27,
      "outputs": [
        {
          "output_type": "execute_result",
          "data": {
            "text/plain": [
              "'/content/hiragana'"
            ]
          },
          "metadata": {
            "tags": []
          },
          "execution_count": 27
        }
      ]
    },
    {
      "cell_type": "code",
      "metadata": {
        "id": "28e7ucMFEQyp",
        "colab_type": "code",
        "outputId": "bddb15ef-7549-486d-df8f-677ca8bbf588",
        "colab": {
          "base_uri": "https://localhost:8080/",
          "height": 34
        }
      },
      "source": [
        "train_generator = train_datagen.flow_from_directory(\n",
        "        'training_data',  # this is the target directory\n",
        "        target_size=(IMG_SIZE, IMG_SIZE),  # all images will be resized to 150x150\n",
        "        batch_size=BATCH_SIZE,\n",
        "        class_mode='sparse')"
      ],
      "execution_count": 28,
      "outputs": [
        {
          "output_type": "stream",
          "text": [
            "Found 13468 images belonging to 71 classes.\n"
          ],
          "name": "stdout"
        }
      ]
    },
    {
      "cell_type": "code",
      "metadata": {
        "id": "uG7n0EbEEeQ3",
        "colab_type": "code",
        "outputId": "b5341673-b939-4c84-bcf2-aeb224d343c0",
        "colab": {
          "base_uri": "https://localhost:8080/",
          "height": 34
        }
      },
      "source": [
        "validation_generator = test_datagen.flow_from_directory(\n",
        "        'testing_data',\n",
        "        target_size=(IMG_SIZE, IMG_SIZE),\n",
        "        batch_size=BATCH_SIZE,\n",
        "        class_mode='sparse')"
      ],
      "execution_count": 29,
      "outputs": [
        {
          "output_type": "stream",
          "text": [
            "Found 732 images belonging to 71 classes.\n"
          ],
          "name": "stdout"
        }
      ]
    },
    {
      "cell_type": "code",
      "metadata": {
        "id": "w8DIMEkhEh3N",
        "colab_type": "code",
        "colab": {}
      },
      "source": [
        "from keras.applications.mobilenet import MobileNet\n",
        "\n",
        "model = MobileNet(input_shape=(IMG_SIZE, IMG_SIZE, 3), include_top=True, classes=N_CLASSES, weights=None)"
      ],
      "execution_count": 0,
      "outputs": []
    },
    {
      "cell_type": "code",
      "metadata": {
        "id": "qtTkPhRpEl6C",
        "colab_type": "code",
        "colab": {}
      },
      "source": [
        "model.summary()"
      ],
      "execution_count": 0,
      "outputs": []
    },
    {
      "cell_type": "code",
      "metadata": {
        "id": "3q7Ed3E1EyrU",
        "colab_type": "code",
        "colab": {}
      },
      "source": [
        "mkdir models_4"
      ],
      "execution_count": 0,
      "outputs": []
    },
    {
      "cell_type": "code",
      "metadata": {
        "id": "fe-ObYfQE5FO",
        "colab_type": "code",
        "colab": {}
      },
      "source": [
        "# Training\n",
        "\n",
        "from keras.callbacks import ModelCheckpoint\n",
        "\n",
        "model_file = \"models_4/weights-improvement-{epoch:02d}-{val_loss:.2f}.hdf5\"\n",
        "\n",
        "checkpoint = ModelCheckpoint(model_file, monitor='val_loss', verbose=1, save_best_only=True, mode='min')\n",
        "callbacks_list = [checkpoint]"
      ],
      "execution_count": 0,
      "outputs": []
    },
    {
      "cell_type": "code",
      "metadata": {
        "id": "dYipSKGUFAAk",
        "colab_type": "code",
        "colab": {}
      },
      "source": [
        "model.compile(loss=keras.losses.sparse_categorical_crossentropy,\n",
        "              optimizer=keras.optimizers.Adadelta(),\n",
        "              metrics=['accuracy'])"
      ],
      "execution_count": 0,
      "outputs": []
    },
    {
      "cell_type": "code",
      "metadata": {
        "id": "udzLATzUGtzh",
        "colab_type": "code",
        "colab": {}
      },
      "source": [
        "model.fit_generator(\n",
        "        train_generator,\n",
        "        steps_per_epoch=13468 // BATCH_SIZE,\n",
        "        epochs=50,\n",
        "        validation_data=validation_generator,\n",
        "        validation_steps=732 // BATCH_SIZE,\n",
        "        callbacks=callbacks_list)"
      ],
      "execution_count": 0,
      "outputs": []
    },
    {
      "cell_type": "code",
      "metadata": {
        "id": "xajE8DZwqOfG",
        "colab_type": "code",
        "outputId": "2d6b4b7a-b0e3-4652-a29b-2c1f0f7cf191",
        "colab": {
          "base_uri": "https://localhost:8080/",
          "height": 51
        }
      },
      "source": [
        "ls"
      ],
      "execution_count": 18,
      "outputs": [
        {
          "output_type": "stream",
          "text": [
            "\u001b[0m\u001b[01;34mETL8G\u001b[0m/          japan_v2.ipynb             \u001b[01;34mmodels_4\u001b[0m/         \u001b[01;34mtesting_data\u001b[0m/\n",
            "jaban_v1.ipynb  load_model_and_test.ipynb  save_model.ipynb  \u001b[01;34mtraining_data\u001b[0m/\n"
          ],
          "name": "stdout"
        }
      ]
    },
    {
      "cell_type": "code",
      "metadata": {
        "id": "GrcDKdqHqYko",
        "colab_type": "code",
        "colab": {}
      },
      "source": [
        "!sudo apt-get install zip unzip -y"
      ],
      "execution_count": 0,
      "outputs": []
    },
    {
      "cell_type": "code",
      "metadata": {
        "id": "MgrZEOhqqScD",
        "colab_type": "code",
        "colab": {}
      },
      "source": [
        "!zip -r model.zip models_4/"
      ],
      "execution_count": 0,
      "outputs": []
    },
    {
      "cell_type": "markdown",
      "metadata": {
        "id": "tWkm-5fNxOF2",
        "colab_type": "text"
      },
      "source": [
        "!rm -r models_4/"
      ]
    }
  ]
}