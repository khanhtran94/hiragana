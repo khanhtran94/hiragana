{
  "nbformat": 4,
  "nbformat_minor": 0,
  "metadata": {
    "colab": {
      "name": "load_model_and_test.ipynb",
      "version": "0.3.2",
      "provenance": [],
      "collapsed_sections": [],
      "include_colab_link": true
    },
    "kernelspec": {
      "name": "python3",
      "display_name": "Python 3"
    },
    "accelerator": "GPU"
  },
  "cells": [
    {
      "cell_type": "markdown",
      "metadata": {
        "id": "view-in-github",
        "colab_type": "text"
      },
      "source": [
        "<a href=\"https://colab.research.google.com/github/khanhtran94/hiragana/blob/master/load_model_and_test.ipynb\" target=\"_parent\"><img src=\"https://colab.research.google.com/assets/colab-badge.svg\" alt=\"Open In Colab\"/></a>"
      ]
    },
    {
      "cell_type": "code",
      "metadata": {
        "id": "kFqkJQipST4e",
        "colab_type": "code",
        "colab": {}
      },
      "source": [
        "import keras\n",
        "from keras.models import load_model\n",
        "from keras.preprocessing import image\n",
        "import numpy as np\n",
        "import cv2\n",
        "import matplotlib.pyplot as plt\n",
        "import numpy as np\n",
        "import tensorflow as tf"
      ],
      "execution_count": 0,
      "outputs": []
    },
    {
      "cell_type": "code",
      "metadata": {
        "id": "yWBkJTSTU4zj",
        "colab_type": "code",
        "colab": {}
      },
      "source": [
        "path_image = 'ETL9G_32_9265_9611_4_2431.png'"
      ],
      "execution_count": 0,
      "outputs": []
    },
    {
      "cell_type": "code",
      "metadata": {
        "id": "1SbWfzYkO08e",
        "colab_type": "code",
        "colab": {
          "base_uri": "https://localhost:8080/",
          "height": 286
        },
        "outputId": "84139757-4ccf-478e-a889-9f9161827782"
      },
      "source": [
        "#upload the test image from outside\n",
        "\n",
        "img = cv2.imread(path_image)\n",
        "gray_image = cv2.cvtColor(img, cv2.COLOR_BGR2GRAY)\n",
        "\n",
        "rescaled_image = cv2.resize(gray_image, (128,128))\n",
        "\n",
        "plt.imshow(rescaled_image, cmap = 'gray')\n",
        "plt.show()\n",
        "rescaled_image.shape\n",
        "\n",
        "#test_image = rescaled_image.flatten()\n",
        "\n",
        "dum = rescaled_image.reshape(1,-1)/255\n",
        "dum.shape"
      ],
      "execution_count": 30,
      "outputs": [
        {
          "output_type": "display_data",
          "data": {
            "image/png": "[encoded data removed]",
            "text/plain": [
              "<Figure size 432x288 with 1 Axes>"
            ]
          },
          "metadata": {
            "tags": []
          }
        },
        {
          "output_type": "execute_result",
          "data": {
            "text/plain": [
              "(1, 16384)"
            ]
          },
          "metadata": {
            "tags": []
          },
          "execution_count": 30
        }
      ]
    },
    {
      "cell_type": "markdown",
      "metadata": {
        "id": "UAC5ZZh8PAjL",
        "colab_type": "text"
      },
      "source": [
        "*thay* doi size, 128,128 de nhin anh ro hon, neu de 32,32 thi anh ko the thay dc"
      ]
    },
    {
      "cell_type": "code",
      "metadata": {
        "id": "_kLGiJ5iVjcZ",
        "colab_type": "code",
        "colab": {}
      },
      "source": [
        ""
      ],
      "execution_count": 0,
      "outputs": []
    },
    {
      "cell_type": "code",
      "metadata": {
        "id": "JHFmhu9eVfng",
        "colab_type": "code",
        "colab": {}
      },
      "source": [
        "img_width = 32\n",
        "img_height = 32"
      ],
      "execution_count": 0,
      "outputs": []
    },
    {
      "cell_type": "code",
      "metadata": {
        "id": "1EmemD9tO9Od",
        "colab_type": "code",
        "colab": {}
      },
      "source": [
        "# Get test image ready\n",
        "test_image = image.load_img(path_image, target_size=(img_width, img_height))\n",
        "test_image = image.img_to_array(test_image)\n",
        "test_image = np.expand_dims(test_image, axis=0)\n"
      ],
      "execution_count": 0,
      "outputs": []
    },
    {
      "cell_type": "code",
      "metadata": {
        "id": "aZY9xygoRJ6F",
        "colab_type": "code",
        "colab": {}
      },
      "source": [
        "filepath = \"weights-improvement-43-0.62.hdf5\""
      ],
      "execution_count": 0,
      "outputs": []
    },
    {
      "cell_type": "code",
      "metadata": {
        "id": "CcQGhmKWRHYn",
        "colab_type": "code",
        "colab": {}
      },
      "source": [
        "model1 = keras.models.load_model(filepath)\n"
      ],
      "execution_count": 0,
      "outputs": []
    },
    {
      "cell_type": "code",
      "metadata": {
        "id": "Gf64Ub7aVrl1",
        "colab_type": "code",
        "colab": {}
      },
      "source": [
        "model1.predict(test_image)"
      ],
      "execution_count": 0,
      "outputs": []
    },
    {
      "cell_type": "code",
      "metadata": {
        "id": "7kK7CXHpWfXa",
        "colab_type": "code",
        "colab": {}
      },
      "source": [
        ""
      ],
      "execution_count": 0,
      "outputs": []
    }
  ]
}